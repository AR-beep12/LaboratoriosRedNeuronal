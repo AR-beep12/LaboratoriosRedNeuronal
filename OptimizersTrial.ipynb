{
 "cells": [
  {
   "cell_type": "code",
   "execution_count": 23,
   "id": "f0be292d-3a8b-46c3-bfb4-8411019b8168",
   "metadata": {},
   "outputs": [
    {
     "name": "stdout",
     "output_type": "stream",
     "text": [
      "Epoch 0, Loss: 0.299200\n",
      "Epoch 20, Loss: 0.238426\n",
      "Epoch 40, Loss: 0.225716\n",
      "Epoch 60, Loss: 0.208969\n",
      "Epoch 80, Loss: 0.186159\n"
     ]
    }
   ],
   "source": [
    "import DnnLib\n",
    "import numpy as np\n",
    "# Create sample data (XOR problem)\n",
    "X = np.array([[0, 0], [0, 1], [1, 0], [1, 1]], dtype=np.float64)\n",
    "y = np.array([[0], [1], [1], [0]], dtype=np.float64)\n",
    "# Create a neural network: 2 -> 4 -> 1\n",
    "layer1 = DnnLib.DenseLayer(2, 4, DnnLib.ActivationType.RELU)\n",
    "layer2 = DnnLib.DenseLayer(4, 1, DnnLib.ActivationType.SIGMOID)\n",
    "\n",
    "# Create optimizer\n",
    "optimizer = DnnLib.Adam(learning_rate=0.01)\n",
    "# Training loop\n",
    "for epoch in range(100):\n",
    "    # Forward pass\n",
    "    h1 = layer1.forward(X)\n",
    "    output = layer2.forward(h1)\n",
    "    # Compute loss\n",
    "    loss = DnnLib.mse(output, y)\n",
    "    # Backward pass\n",
    "    loss_grad = DnnLib.mse_gradient(output, y)\n",
    "    grad2 = layer2.backward(loss_grad)\n",
    "    grad1 = layer1.backward(grad2)\n",
    "\n",
    "    # Update parameters\n",
    "    optimizer.update(layer2)\n",
    "    optimizer.update(layer1)\n",
    "\n",
    "    if epoch % 20 == 0:\n",
    "        print(f\"Epoch {epoch}, Loss: {loss:.6f}\")"
   ]
  },
  {
   "cell_type": "code",
   "execution_count": 24,
   "id": "cda75c84-65df-44c0-9323-2b19a27c86b2",
   "metadata": {},
   "outputs": [],
   "source": [
    "def train_network(layers, optimizer, X, y, epochs=100,loss_type=DnnLib.LossType.MSE):\n",
    "    \"\"\"\n",
    "    layers: List of DenseLayer objects\n",
    "    optimizer: Optimizer instance\n",
    "    X: Input data (samples x features)\n",
    "    y: Target data (samples x outputs)\n",
    "    epochs: Number of training epochs\n",
    "    loss_type: Type of loss function to use\n",
    "    \"\"\"\n",
    "    for epoch in range(epochs):\n",
    "        # Forward pass\n",
    "        activations = [X]\n",
    "        for layer in layers:\n",
    "            activations.append(layer.forward(activations[-1]))\n",
    "            output = activations[-1]\n",
    "        # Compute loss\n",
    "            loss = DnnLib.compute_loss(output, y, loss_type)\n",
    "        # Backward pass\n",
    "            grad = DnnLib.compute_loss_gradient(output, y, loss_type)\n",
    "\n",
    "        for i in reversed(range(len(layers))):\n",
    "            grad = layers[i].backward(grad)\n",
    "            optimizer.update(layers[i])\n",
    "        if epoch % (epochs // 10) == 0:\n",
    "            print(f\"Epoch {epoch}, Loss: {loss:.6f}\")\n",
    "    return loss"
   ]
  },
  {
   "cell_type": "code",
   "execution_count": 26,
   "id": "f95b37f6-e2bb-4dcd-b91d-87860e245491",
   "metadata": {},
   "outputs": [
    {
     "name": "stdout",
     "output_type": "stream",
     "text": [
      "Epoch 0, Loss: 0.056395\n",
      "Epoch 10, Loss: 0.048811\n",
      "Epoch 20, Loss: 0.042370\n",
      "Epoch 30, Loss: 0.036987\n",
      "Epoch 40, Loss: 0.032365\n",
      "Epoch 50, Loss: 0.028479\n",
      "Epoch 60, Loss: 0.025177\n",
      "Epoch 70, Loss: 0.022449\n",
      "Epoch 80, Loss: 0.020059\n",
      "Epoch 90, Loss: 0.018048\n"
     ]
    },
    {
     "data": {
      "text/plain": [
       "0.016473984355167674"
      ]
     },
     "execution_count": 26,
     "metadata": {},
     "output_type": "execute_result"
    }
   ],
   "source": [
    "train_network([layer1,layer2],optimizer,X,y)"
   ]
  },
  {
   "cell_type": "code",
   "execution_count": 27,
   "id": "9b99d222-5ae1-46ef-a100-1c782a5ef897",
   "metadata": {},
   "outputs": [
    {
     "name": "stdout",
     "output_type": "stream",
     "text": [
      "Epoch 0, Loss: 0.016309\n",
      "Epoch 10, Loss: 0.014848\n",
      "Epoch 20, Loss: 0.013499\n",
      "Epoch 30, Loss: 0.012353\n",
      "Epoch 40, Loss: 0.011352\n",
      "Epoch 50, Loss: 0.010466\n",
      "Epoch 60, Loss: 0.009678\n",
      "Epoch 70, Loss: 0.009008\n",
      "Epoch 80, Loss: 0.008391\n",
      "Epoch 90, Loss: 0.007813\n"
     ]
    },
    {
     "data": {
      "text/plain": [
       "0.007358335571087973"
      ]
     },
     "execution_count": 27,
     "metadata": {},
     "output_type": "execute_result"
    }
   ],
   "source": [
    "train_network([layer1,layer2],optimizer,X,y)"
   ]
  },
  {
   "cell_type": "code",
   "execution_count": 29,
   "id": "d2af9728-472c-40e8-81b4-4a60e56c7a94",
   "metadata": {},
   "outputs": [
    {
     "name": "stdout",
     "output_type": "stream",
     "text": [
      "Entradas (4, 2)\n",
      "targets (4, 1)\n",
      "layer 1 (4, 2)\n",
      "layer 2 (1, 4)\n"
     ]
    }
   ],
   "source": [
    "print (\"Entradas\", X.shape)\n",
    "print (\"targets\", y.shape)\n",
    "print (\"layer 1\", layer1.weights.shape)\n",
    "print (\"layer 2\", layer2.weights.shape)"
   ]
  },
  {
   "cell_type": "code",
   "execution_count": null,
   "id": "bae1da05-926c-4ad6-8af3-530c2f044339",
   "metadata": {},
   "outputs": [],
   "source": []
  }
 ],
 "metadata": {
  "kernelspec": {
   "display_name": "Python 3 (ipykernel)",
   "language": "python",
   "name": "python3"
  },
  "language_info": {
   "codemirror_mode": {
    "name": "ipython",
    "version": 3
   },
   "file_extension": ".py",
   "mimetype": "text/x-python",
   "name": "python",
   "nbconvert_exporter": "python",
   "pygments_lexer": "ipython3",
   "version": "3.10.18"
  }
 },
 "nbformat": 4,
 "nbformat_minor": 5
}
