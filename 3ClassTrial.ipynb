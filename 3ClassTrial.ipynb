{
 "cells": [
  {
   "cell_type": "code",
   "execution_count": 1,
   "id": "de293909-6c45-4b88-8e52-3dd36ce4b730",
   "metadata": {},
   "outputs": [
    {
     "name": "stdout",
     "output_type": "stream",
     "text": [
      "Multi-class dataset: (1500, 4), 3 classes\n"
     ]
    }
   ],
   "source": [
    "import DnnLib\n",
    "import numpy as np\n",
    "# Generate 3-class classification data\n",
    "np.random.seed(42)\n",
    "n_samples = 1500\n",
    "n_features = 4\n",
    "n_classes = 3\n",
    "X = np.random.randn(n_samples, n_features).astype(np.float64)\n",
    "# Create 3 classes with different patterns\n",
    "y_labels = np.zeros(n_samples, dtype=int)\n",
    "y_labels[:500] = 0 # Class 0\n",
    "y_labels[500:1000] = 1 # Class 1\n",
    "y_labels[1000:] = 2 # Class 2\n",
    "# Convert to one-hot encoding\n",
    "y = np.zeros((n_samples, n_classes), dtype=np.float64)\n",
    "y[np.arange(n_samples), y_labels] = 1.0\n",
    "print(f\"Multi-class dataset: {X.shape}, {n_classes} classes\")"
   ]
  },
  {
   "cell_type": "code",
   "execution_count": 2,
   "id": "f579a064-0cf6-4695-85a9-f1422b4efbad",
   "metadata": {},
   "outputs": [
    {
     "name": "stdout",
     "output_type": "stream",
     "text": [
      "(16, 4)\n"
     ]
    }
   ],
   "source": [
    "layers = [\n",
    " DnnLib.DenseLayer(4, 16, DnnLib.ActivationType.RELU),\n",
    " DnnLib.DenseLayer(16, 8, DnnLib.ActivationType.RELU),\n",
    " DnnLib.DenseLayer(8, 3, DnnLib.ActivationType.SOFTMAX)\n",
    "]\n",
    "print(layers[0].weights.shape)"
   ]
  },
  {
   "cell_type": "code",
   "execution_count": 8,
   "id": "3d6f80ce-bb6f-4929-9b8e-f7831c3f48fd",
   "metadata": {},
   "outputs": [
    {
     "ename": "IndentationError",
     "evalue": "unexpected indent (1385857865.py, line 27)",
     "output_type": "error",
     "traceback": [
      "\u001b[0;36m  Cell \u001b[0;32mIn[8], line 27\u001b[0;36m\u001b[0m\n\u001b[0;31m    for epoch in range(150):\u001b[0m\n\u001b[0m    ^\u001b[0m\n\u001b[0;31mIndentationError\u001b[0m\u001b[0;31m:\u001b[0m unexpected indent\n"
     ]
    }
   ],
   "source": [
    "import DnnLib\n",
    "import numpy as np\n",
    "# Generate 3-class classification data\n",
    "np.random.seed(42)\n",
    "n_samples = 1500\n",
    "n_features = 4\n",
    "n_classes = 3\n",
    "X = np.random.randn(n_samples, n_features).astype(np.float64)\n",
    "# Create 3 classes with different patterns\n",
    "y_labels = np.zeros(n_samples, dtype=int)\n",
    "y_labels[:500] = 0 # Class 0\n",
    "y_labels[500:1000] = 1 # Class 1\n",
    "y_labels[1000:] = 2 # Class 2\n",
    "# Convert to one-hot encoding\n",
    "y = np.zeros((n_samples, n_classes), dtype=np.float64)\n",
    "y[np.arange(n_samples), y_labels] = 1.0\n",
    "print(f\"Multi-class dataset: {X.shape}, {n_classes} classes\")\n",
    "# Create network: 4 -> 16 -> 8 -> 3\n",
    "layers = [\n",
    "    DnnLib.DenseLayer(4, 16, DnnLib.ActivationType.RELU),\n",
    "    DnnLib.DenseLayer(16, 8, DnnLib.ActivationType.RELU),\n",
    "    DnnLib.DenseLayer(8, 3, DnnLib.ActivationType.SOFTMAX)\n",
    "]\n",
    "# Use RMSprop optimizer\n",
    "optimizer = DnnLib.RMSprop(learning_rate=0.01, decay_rate=0.9)\n",
    "print(\"Training multi-class classifier...\")\n",
    "for epoch in range(150):\n",
    "    h1 = layers[0].forward(X)\n",
    "    h2 = layers[1].forward(h1)\n",
    "    output = layers[2].forward(h2)\n",
    " # Cross-entropy loss\n",
    "    loss = DnnLib.cross_entropy(output, y)\n",
    " # Backward pass\n",
    "    grad = DnnLib.cross_entropy_gradient(output, y)\n",
    "    grad = layers[2].backward(grad)\n",
    "    grad = layers[1].backward(grad)\n",
    "    grad = layers[0].backward(grad)\n",
    "    # Update parameters\n",
    "    for layer in layers:\n",
    "        optimizer.update(layer)\n",
    "    if epoch % 30 == 0:\n",
    "    # Calculate accuracy\n",
    "        predicted_classes = np.argmax(output, axis=1)\n",
    "        accuracy = np.mean(predicted_classes == y_labels)\n",
    "        print(f\"Epoch {epoch}, Loss: {loss:.4f}, Accuracy: {accuracy:.4f}\")\n",
    "print(\"Multi-class training completed!\")\n"
   ]
  },
  {
   "cell_type": "code",
   "execution_count": null,
   "id": "bc8cd721-6eea-4b58-bb04-9f37f856bb8b",
   "metadata": {},
   "outputs": [],
   "source": []
  }
 ],
 "metadata": {
  "kernelspec": {
   "display_name": "Python 3 (ipykernel)",
   "language": "python",
   "name": "python3"
  },
  "language_info": {
   "codemirror_mode": {
    "name": "ipython",
    "version": 3
   },
   "file_extension": ".py",
   "mimetype": "text/x-python",
   "name": "python",
   "nbconvert_exporter": "python",
   "pygments_lexer": "ipython3",
   "version": "3.10.18"
  }
 },
 "nbformat": 4,
 "nbformat_minor": 5
}
