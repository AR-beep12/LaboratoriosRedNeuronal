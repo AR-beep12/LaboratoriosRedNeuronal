{
 "cells": [
  {
   "cell_type": "code",
   "execution_count": 19,
   "id": "2f0dea1c-3fc3-42c5-a2f9-75c6b9b8cd33",
   "metadata": {},
   "outputs": [],
   "source": [
    "import numpy as np\n",
    "import DnnLib\n",
    "import json\n",
    "\n",
    "#Cargar Entradas\n",
    "data = np.load(\"mnist_train.npz\")\n",
    "test = np.load(\"mnist_test.npz\")\n",
    "\n",
    "imagesD = data ['images']\n",
    "labelsD = data ['labels']\n",
    "imagesT = test ['images']\n",
    "labelsT = test ['labels']\n",
    "\n",
    "imagesD = imagesD \n",
    "labelsD = labelsD\n",
    "\n",
    "DIma = imagesD.reshape(imagesD.shape[0], -1).T / 255.0\n",
    "TIma = imagesT.reshape(imagesT.shape[0], -1).T / 255.0\n",
    "\n",
    "#Cargar Pesos y Sesgos\n",
    "layer1 = DnnLib.DenseLayer(784, 128, DnnLib.ActivationType.RELU)\n",
    "layer2 = DnnLib.DenseLayer(128, 10, DnnLib.ActivationType.SOFTMAX)\n",
    "\n",
    "with open (\"mnist_mlp_pretty.json\",\"r\") as f:\n",
    "    datos = json.load(f)\n",
    "    \n",
    "capas = []\n",
    "for elem in datos['layers']:\n",
    "    capas.append(elem)\n",
    "    \n",
    "layer1.weights = np.array(capas[0][\"W\"])\n",
    "layer2.weights = np.array(capas[1][\"W\"])\n",
    "layer1.bias = np.array(capas[0][\"b\"])\n",
    "layer2.bias = np.array(capas[0][\"b\"])\n",
    "\n",
    "#Primer Forward\n",
    "\n"
   ]
  },
  {
   "cell_type": "code",
   "execution_count": null,
   "id": "26cdba76-c78a-4c58-904e-abf483579a84",
   "metadata": {},
   "outputs": [],
   "source": []
  }
 ],
 "metadata": {
  "kernelspec": {
   "display_name": "Python 3 (ipykernel)",
   "language": "python",
   "name": "python3"
  },
  "language_info": {
   "codemirror_mode": {
    "name": "ipython",
    "version": 3
   },
   "file_extension": ".py",
   "mimetype": "text/x-python",
   "name": "python",
   "nbconvert_exporter": "python",
   "pygments_lexer": "ipython3",
   "version": "3.10.18"
  }
 },
 "nbformat": 4,
 "nbformat_minor": 5
}
