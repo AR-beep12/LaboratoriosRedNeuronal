{
 "cells": [
  {
   "cell_type": "code",
   "execution_count": 2,
   "id": "2f0dea1c-3fc3-42c5-a2f9-75c6b9b8cd33",
   "metadata": {},
   "outputs": [
    {
     "name": "stdout",
     "output_type": "stream",
     "text": [
      "Precisión: 0.9710666666666666\n"
     ]
    }
   ],
   "source": [
    "import numpy as np\n",
    "import DnnLib\n",
    "import json\n",
    "\n",
    "#Cargar Entradas\n",
    "data = np.load(\"mnist_train.npz\")\n",
    "test = np.load(\"mnist_test.npz\")\n",
    "\n",
    "imagesD = data ['images']\n",
    "labelsD = data ['labels']\n",
    "imagesT = test ['images']\n",
    "labelsT = test ['labels']\n",
    "\n",
    "DIma = imagesD.reshape(imagesD.shape[0], -1) / 255.0\n",
    "TIma = imagesT.reshape(imagesT.shape[0], -1) / 255.0\n",
    "\n",
    "#Cargar Pesos y Sesgos\n",
    "layer1 = DnnLib.DenseLayer(784, 128, DnnLib.ActivationType.RELU)\n",
    "layer2 = DnnLib.DenseLayer(128, 10, DnnLib.ActivationType.SOFTMAX)\n",
    "\n",
    "with open (\"mnist_mlp_pretty.json\",\"r\") as f:\n",
    "    datos = json.load(f)\n",
    "    \n",
    "capas = []\n",
    "for elem in datos['layers']:\n",
    "    capas.append(elem)\n",
    "    \n",
    "layer1.weights = np.array(capas[0][\"W\"]).T\n",
    "layer2.weights = np.array(capas[1][\"W\"]).T\n",
    "layer1.bias = np.array(capas[0][\"b\"]).T\n",
    "layer2.bias = np.array(capas[1][\"b\"]).T\n",
    "\n",
    "#Forward\n",
    "salida1 = layer1.forward(DIma)\n",
    "salida2 = layer2.forward(salida1)\n",
    "\n",
    "predictions = np.argmax(salida2, axis=1)\n",
    "accuracy = np.mean(predictions == labelsD)\n",
    "print(\"Precisión:\", accuracy*100)"
   ]
  },
  {
   "cell_type": "code",
   "execution_count": null,
   "id": "ee0a480c-7d4d-4536-b598-a40bfa572bea",
   "metadata": {},
   "outputs": [],
   "source": []
  }
 ],
 "metadata": {
  "kernelspec": {
   "display_name": "Python 3 (ipykernel)",
   "language": "python",
   "name": "python3"
  },
  "language_info": {
   "codemirror_mode": {
    "name": "ipython",
    "version": 3
   },
   "file_extension": ".py",
   "mimetype": "text/x-python",
   "name": "python",
   "nbconvert_exporter": "python",
   "pygments_lexer": "ipython3",
   "version": "3.10.18"
  }
 },
 "nbformat": 4,
 "nbformat_minor": 5
}
